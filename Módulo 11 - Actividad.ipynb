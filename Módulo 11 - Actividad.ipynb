{
 "cells": [
  {
   "cell_type": "markdown",
   "metadata": {},
   "source": [
    "#### Función lambda para obtener la raíz cuadrada de un número"
   ]
  },
  {
   "cell_type": "code",
   "execution_count": 1,
   "metadata": {},
   "outputs": [],
   "source": [
    "# Cálculo de raíz cuadrada con una función tradicional\n",
    "def square_root(n):\n",
    "    return n ** 0.5"
   ]
  },
  {
   "cell_type": "code",
   "execution_count": 2,
   "metadata": {},
   "outputs": [
    {
     "data": {
      "text/plain": [
       "6.0"
      ]
     },
     "execution_count": 2,
     "metadata": {},
     "output_type": "execute_result"
    }
   ],
   "source": [
    "square_root(36)"
   ]
  },
  {
   "cell_type": "code",
   "execution_count": 3,
   "metadata": {},
   "outputs": [
    {
     "data": {
      "text/plain": [
       "6.0"
      ]
     },
     "execution_count": 3,
     "metadata": {},
     "output_type": "execute_result"
    }
   ],
   "source": [
    "# Cálculo de raíz cuadrada con lambda\n",
    "(lambda n: n ** 0.5)(36)"
   ]
  },
  {
   "cell_type": "markdown",
   "metadata": {},
   "source": [
    "#### Función map para obtener el largo de una cadena de palabras"
   ]
  },
  {
   "cell_type": "code",
   "execution_count": 4,
   "metadata": {},
   "outputs": [
    {
     "data": {
      "text/plain": [
       "[1, 4, 8, 6]"
      ]
     },
     "execution_count": 4,
     "metadata": {},
     "output_type": "execute_result"
    }
   ],
   "source": [
    "# Cálculo de largo de una cadena de palabras con un for loop\n",
    "cadena = 'I like watching movies'\n",
    "\n",
    "largo = []\n",
    "\n",
    "for palabra in cadena.split():\n",
    "    largo.append(len(palabra))\n",
    "\n",
    "largo"
   ]
  },
  {
   "cell_type": "code",
   "execution_count": 5,
   "metadata": {},
   "outputs": [
    {
     "name": "stdout",
     "output_type": "stream",
     "text": [
      "[1, 4, 8, 6]\n"
     ]
    }
   ],
   "source": [
    "# Cálculo de largo de una cadena de palabras con map\n",
    "cadena = 'I like watching movies'\n",
    "\n",
    "largo = map(len, cadena.split())\n",
    "print(list(largo))"
   ]
  },
  {
   "cell_type": "markdown",
   "metadata": {},
   "source": [
    "#### Función reduce para calcular el producto de una lista"
   ]
  },
  {
   "cell_type": "code",
   "execution_count": 6,
   "metadata": {},
   "outputs": [],
   "source": [
    "# Calculo del producto de una lista con una función tradicional\n",
    "def myprod(numeros):\n",
    "    result = 1\n",
    "    for i in numeros:\n",
    "        result = result * i * 2\n",
    "    return result"
   ]
  },
  {
   "cell_type": "code",
   "execution_count": 7,
   "metadata": {},
   "outputs": [
    {
     "data": {
      "text/plain": [
       "28000"
      ]
     },
     "execution_count": 7,
     "metadata": {},
     "output_type": "execute_result"
    }
   ],
   "source": [
    "numeros = [4, 7, 10, 5, 20]\n",
    "myprod(numeros)"
   ]
  },
  {
   "cell_type": "code",
   "execution_count": 8,
   "metadata": {},
   "outputs": [
    {
     "name": "stdout",
     "output_type": "stream",
     "text": [
      "28000\n"
     ]
    }
   ],
   "source": [
    "# Calculo del producto de una lista con reduce y lambda\n",
    "from functools import reduce\n",
    "\n",
    "numeros = [4, 7, 10, 5, 20]\n",
    "\n",
    "producto = reduce(lambda a, b: a * b, numeros)\n",
    "\n",
    "print(producto)"
   ]
  },
  {
   "cell_type": "markdown",
   "metadata": {},
   "source": [
    "#### Función filter para encontrar palabras que contengan mayúsculas o números en un listado"
   ]
  },
  {
   "cell_type": "code",
   "execution_count": 9,
   "metadata": {},
   "outputs": [
    {
     "data": {
      "text/plain": [
       "['est4', 'uNa', 'pru3ba', 'D3']"
      ]
     },
     "execution_count": 9,
     "metadata": {},
     "output_type": "execute_result"
    }
   ],
   "source": [
    "# Filtrado de lista de strings utilizando un for loop\n",
    "\n",
    "lista = ['est4', 'es', 'uNa', 'pru3ba', 'D3', 'filtro']\n",
    "\n",
    "nueva_lista = []\n",
    "\n",
    "for palabra in lista:\n",
    "    if palabra.islower() == False:\n",
    "        nueva_lista.append(palabra)\n",
    "    elif palabra.isalpha() == False:\n",
    "        nueva_lista.append(palabra)\n",
    "\n",
    "nueva_lista\n"
   ]
  },
  {
   "cell_type": "code",
   "execution_count": 10,
   "metadata": {},
   "outputs": [
    {
     "name": "stdout",
     "output_type": "stream",
     "text": [
      "['est4', 'uNa', 'pru3ba', 'D3']\n"
     ]
    }
   ],
   "source": [
    "# Filtrado de lista de strings utilizando filter\n",
    "\n",
    "lista = ['est4', 'es', 'uNa', 'pru3ba', 'D3', 'filtro']\n",
    "\n",
    "filtro = filter(lambda palabra: palabra if palabra.islower() == False else palabra if palabra.isalpha() == False else None, lista)\n",
    "\n",
    "print(list(filtro))"
   ]
  }
 ],
 "metadata": {
  "kernelspec": {
   "display_name": "Python 3 (ipykernel)",
   "language": "python",
   "name": "python3"
  },
  "language_info": {
   "codemirror_mode": {
    "name": "ipython",
    "version": 3
   },
   "file_extension": ".py",
   "mimetype": "text/x-python",
   "name": "python",
   "nbconvert_exporter": "python",
   "pygments_lexer": "ipython3",
   "version": "3.9.6"
  }
 },
 "nbformat": 4,
 "nbformat_minor": 2
}
